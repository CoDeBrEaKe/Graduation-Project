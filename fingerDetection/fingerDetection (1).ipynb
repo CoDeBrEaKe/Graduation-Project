{
 "cells": [
  {
   "cell_type": "code",
   "execution_count": 1,
   "id": "59209951",
   "metadata": {},
   "outputs": [],
   "source": [
    "import tensorflow as tf\n",
    "import os\n",
    "import matplotlib.pyplot as plt\n",
    "import cv2\n",
    "import numpy as np\n",
    "from tensorflow.keras.preprocessing.image import ImageDataGenerator\n",
    "from tensorflow.keras.preprocessing import image\n",
    "from tensorflow.keras.optimizers import  RMSprop\n",
    "import pytesseract\n",
    "import pyttsx3"
   ]
  },
  {
   "cell_type": "code",
   "execution_count": 2,
   "id": "9b5bc4f7",
   "metadata": {},
   "outputs": [],
   "source": [
    "train=ImageDataGenerator(rescale=1/255)\n",
    "validation=ImageDataGenerator(rescale=1/255)"
   ]
  },
  {
   "cell_type": "code",
   "execution_count": 3,
   "id": "e761c784",
   "metadata": {},
   "outputs": [
    {
     "name": "stdout",
     "output_type": "stream",
     "text": [
      "Found 18 images belonging to 2 classes.\n"
     ]
    }
   ],
   "source": [
    "train_dataset=train.flow_from_directory(\"E:/computer_vision/basedata/training/\",target_size=(640,480),batch_size=3,class_mode=\"binary\")"
   ]
  },
  {
   "cell_type": "code",
   "execution_count": 4,
   "id": "9de41c6b",
   "metadata": {},
   "outputs": [
    {
     "name": "stdout",
     "output_type": "stream",
     "text": [
      "Found 13 images belonging to 2 classes.\n"
     ]
    }
   ],
   "source": [
    "validation_dataset=train.flow_from_directory(\"E:/computer_vision/basedata/validation/\",target_size=(640,480),batch_size=3,class_mode=\"binary\")"
   ]
  },
  {
   "cell_type": "code",
   "execution_count": null,
   "id": "f9071073",
   "metadata": {},
   "outputs": [],
   "source": []
  }
 ],
 "metadata": {
  "kernelspec": {
   "display_name": "Python 3 (ipykernel)",
   "language": "python",
   "name": "python3"
  },
  "language_info": {
   "codemirror_mode": {
    "name": "ipython",
    "version": 3
   },
   "file_extension": ".py",
   "mimetype": "text/x-python",
   "name": "python",
   "nbconvert_exporter": "python",
   "pygments_lexer": "ipython3",
   "version": "3.9.12"
  }
 },
 "nbformat": 4,
 "nbformat_minor": 5
}
